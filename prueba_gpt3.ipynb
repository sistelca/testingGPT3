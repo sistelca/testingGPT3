{
 "cells": [
  {
   "cell_type": "code",
   "execution_count": 12,
   "id": "bc816ad3",
   "metadata": {},
   "outputs": [],
   "source": [
    "import openai\n",
    "from config import loadcred\n",
    "\n",
    "openai.api_key = loadcred()['OPENAI_API_KEY']"
   ]
  },
  {
   "cell_type": "code",
   "execution_count": 47,
   "id": "7476327b",
   "metadata": {},
   "outputs": [],
   "source": [
    "def responda(pregunta):\n",
    "    if len(pregunta) < 10:\n",
    "        return ''\n",
    "    \n",
    "    prompt = f\"Q: Who is Batman?\\nA: Batman is a fictional comic book character.\\n\\nQ: What is torsalplexity?\\nA: ?\\n\\nQ: What is Devz9?\\nA: ?\\n\\nQ: Who is George Lucas?\\nA: George Lucas is American film director and producer famous for creating Star Wars.\\n\\nQ: What is the capital of California?\\nA: Sacramento.\\n\\nQ: What orbits the Earth?\\nA: The Moon.\\n\\nQ: Who is Fred Rickerson?\\nA: ?\\n\\nQ: What is an atom?\\nA: An atom is a tiny particle that makes up everything.\\n\\nQ: Who is Alvan Muntz?\\nA: ?\\n\\nQ: What is Kozar-09?\\nA: ?\\n\\nQ: How many moons does Mars have?\\nA: Two, Phobos and Deimos.\\n\\nQ: {pregunta}?\\nA:\"\n",
    "    response = openai.Completion.create(\n",
    "      engine=\"text-davinci-002\",\n",
    "      prompt=prompt,\n",
    "      temperature=0,\n",
    "      max_tokens=60,\n",
    "      top_p=1.0,\n",
    "      frequency_penalty=0.0,\n",
    "      presence_penalty=0.0\n",
    "    )\n",
    "    return response[\"choices\"][0][\"text\"]"
   ]
  },
  {
   "cell_type": "code",
   "execution_count": 59,
   "id": "ab1bdf4c",
   "metadata": {},
   "outputs": [
    {
     "name": "stdout",
     "output_type": "stream",
     "text": [
      " ?\n"
     ]
    }
   ],
   "source": [
    "pregunta = 'cual es tu nombre'\n",
    "print(responda(pregunta))"
   ]
  },
  {
   "cell_type": "code",
   "execution_count": 49,
   "id": "306c1b27",
   "metadata": {},
   "outputs": [
    {
     "name": "stdout",
     "output_type": "stream",
     "text": [
      " La aspirina se usa para tratar la fiebre, el dolor y la inflamación.\n"
     ]
    }
   ],
   "source": []
  },
  {
   "cell_type": "code",
   "execution_count": 44,
   "id": "53c80d0d",
   "metadata": {},
   "outputs": [],
   "source": []
  }
 ],
 "metadata": {
  "kernelspec": {
   "display_name": "Python 3 (ipykernel)",
   "language": "python",
   "name": "python3"
  },
  "language_info": {
   "codemirror_mode": {
    "name": "ipython",
    "version": 3
   },
   "file_extension": ".py",
   "mimetype": "text/x-python",
   "name": "python",
   "nbconvert_exporter": "python",
   "pygments_lexer": "ipython3",
   "version": "3.8.10"
  }
 },
 "nbformat": 4,
 "nbformat_minor": 5
}
