{
 "cells": [
  {
   "cell_type": "code",
   "execution_count": 1,
   "id": "bc816ad3",
   "metadata": {},
   "outputs": [],
   "source": [
    "import openai\n",
    "from config import loadcred\n",
    "\n",
    "openai.api_key = loadcred('./')['OPENAI_API_KEY']"
   ]
  },
  {
   "cell_type": "code",
   "execution_count": 2,
   "id": "7476327b",
   "metadata": {},
   "outputs": [],
   "source": [
    "def responda(pregunta):\n",
    "    if len(pregunta) < 10:\n",
    "        return ''\n",
    "\n",
    "    response = openai.Completion.create(\n",
    "        model = \"text-davinci-003\",\n",
    "        prompt = pregunta,\n",
    "        #\"The following is a conversation with an AI assistant. The assistant is helpful, creative, clever, and very friendly.\\n\\nHuman: Hello, who are you?\\nAI: I am an AI created by OpenAI. How can I help you today?\\nHuman: I'd like to cancel my subscription.\\nAI:\",\n",
    "        temperature=0.9,\n",
    "        max_tokens=500,\n",
    "        top_p=1,\n",
    "        frequency_penalty=0.0,\n",
    "        presence_penalty=0.6,\n",
    "        stop=[\" Human:\", \" AI:\"]\n",
    "    )\n",
    "    return response[\"choices\"][0][\"text\"]\n",
    "\n"
   ]
  },
  {
   "cell_type": "code",
   "execution_count": 3,
   "id": "ab1bdf4c",
   "metadata": {
    "scrolled": true
   },
   "outputs": [
    {
     "data": {
      "text/plain": [
       "'\\n\\n1. Brazil: 209.3 million\\n2. Colombia: 49.7 million\\n3. Argentina: 44.3 million\\n4. Peru: 32.2 million\\n5. Venezuela: 28.4 million\\n6. Chile: 18.2 million\\n7. Ecuador: 17.4 million\\n8. Bolivia: 11 million\\n9. Paraguay: 6.9 million\\n10. Uruguay: 3.5 million\\n11. Guyana: 0.77 million\\n12. Suriname: 0.5 million'"
      ]
     },
     "execution_count": 3,
     "metadata": {},
     "output_type": "execute_result"
    }
   ],
   "source": [
    "pregunta = 'Give me a list of all latino south american countries with their people number'\n",
    "\n",
    "responda(pregunta)\n"
   ]
  },
  {
   "cell_type": "code",
   "execution_count": 3,
   "id": "d7f05905",
   "metadata": {},
   "outputs": [],
   "source": [
    "pregunta = 'give me a summary of this website: https://medium.com/the-generator/first-hands-on-with-chatgpt-browse-what-can-it-do-20ce9205f02e'\n",
    "\n",
    "res = responda(pregunta)"
   ]
  },
  {
   "cell_type": "code",
   "execution_count": 4,
   "id": "1353efc9",
   "metadata": {},
   "outputs": [
    {
     "data": {
      "text/plain": [
       "\"\\n\\nThis website provides a look at what ChatGPT can do with a hands-on introduction. ChatGPT is a new open-source chatbot which utilizes the GPT-3 language model to generate natural conversations. It includes features such as natural language understanding, sentiment analysis, and context preservation. The article goes through examples of how the bot can be used, such as conducting job interviews, customer service conversations, and troubleshooting customer issues. Additionally, the author provides an overview of the bot's architecture and details on how it can be integrated into existing systems.\""
      ]
     },
     "execution_count": 4,
     "metadata": {},
     "output_type": "execute_result"
    }
   ],
   "source": [
    "res"
   ]
  },
  {
   "cell_type": "code",
   "execution_count": 5,
   "id": "306c1b27",
   "metadata": {},
   "outputs": [
    {
     "data": {
      "text/plain": [
       "'\\n\\nEste sitio web ofrece una mirada a lo que ChatGPT puede hacer con una introducción práctica. ChatGPT es un nuevo chatbot de código abierto que utiliza el modelo de lenguaje GPT-3 para generar conversaciones naturales. Incluye características como comprensión del lenguaje natural, análisis de sentimientos y preservación del contexto. El artículo explica ejemplos de cómo se puede usar el bot, como entrevistas de trabajo'"
      ]
     },
     "execution_count": 5,
     "metadata": {},
     "output_type": "execute_result"
    }
   ],
   "source": [
    "pregunta = f\"translate to spanish: {res}\"\n",
    "responda(pregunta)"
   ]
  },
  {
   "cell_type": "code",
   "execution_count": 6,
   "id": "53c80d0d",
   "metadata": {},
   "outputs": [],
   "source": [
    "ins = 'fedora habilitar escritorio remoto desde terminal'"
   ]
  },
  {
   "cell_type": "code",
   "execution_count": 7,
   "id": "88733d63",
   "metadata": {},
   "outputs": [
    {
     "data": {
      "text/plain": [
       "'\\n\\nFedora ofrece varias formas de habilitar el escritorio remoto desde una terminal. Una de ellas es utilizar el servicio VNC (Virtual Network Computing). Para ello, tendrá que instalar y configurar el paquete tigervnc-server. Puede hacerlo con el siguiente comando:\\n\\nsudo dnf install tigervnc-server\\n\\nUna vez instalado, puede configurar el escritorio remoto escribiendo el siguiente comando:\\n\\nvncserver :1\\n\\nA continuación,'"
      ]
     },
     "execution_count": 7,
     "metadata": {},
     "output_type": "execute_result"
    }
   ],
   "source": [
    "responda(ins)"
   ]
  },
  {
   "cell_type": "code",
   "execution_count": 13,
   "id": "37c442d3",
   "metadata": {},
   "outputs": [],
   "source": [
    "ins = 'Give me a list of topics for the introduction to machine learning with python course'"
   ]
  },
  {
   "cell_type": "code",
   "execution_count": 14,
   "id": "526d97cc",
   "metadata": {
    "scrolled": false
   },
   "outputs": [
    {
     "data": {
      "text/plain": [
       "'\\n\\n1. Introduction to Python for Data Science\\n2. Understanding Basic Machine Learning Algorithms\\n3. Linear Regression and Logistic Regression\\n4. Exploratory Data Analysis\\n5. Model Selection and Evaluation\\n6. Support Vector Machines (SVMs)\\n7. Decision Trees and Random Forests\\n8. Unsupervised Learning with Clustering \\n9. Ensemble Methods\\n10. Neural Networks\\n11. Text Analysis\\n12. Timeseries Analysis\\n13. Building and Visualizing Complex Models'"
      ]
     },
     "execution_count": 14,
     "metadata": {},
     "output_type": "execute_result"
    }
   ],
   "source": [
    "responda(ins)"
   ]
  },
  {
   "cell_type": "code",
   "execution_count": 15,
   "id": "30d4c7cb",
   "metadata": {},
   "outputs": [
    {
     "data": {
      "text/plain": [
       "'\\n\\nUn sitio web que recomendamos para hablar sobre el liderazgo es Leaderonomics.com. Esta es una plataforma de contenido que proporciona información actualizada y relevante sobre el pensamiento, las herramientas y los conocimientos necesarios para dirigir equipos exitosos. El sitio web ofrece artículos, vídeos, publicaciones y otros recursos educativos para ayudar tanto a los principiantes como a los líderes experimentados a alcanzar sus objetivos'"
      ]
     },
     "execution_count": 15,
     "metadata": {},
     "output_type": "execute_result"
    }
   ],
   "source": [
    "rins = 'recomiendame un sitio web que hable sobre el liderazgo'\n",
    "responda(rins)"
   ]
  },
  {
   "cell_type": "code",
   "execution_count": 16,
   "id": "cd164527",
   "metadata": {},
   "outputs": [],
   "source": [
    "ins = 'completa esta frase: el destino le susurra al guerrero: '"
   ]
  },
  {
   "cell_type": "code",
   "execution_count": 17,
   "id": "161e26f2",
   "metadata": {},
   "outputs": [],
   "source": [
    "resp = responda(ins)"
   ]
  },
  {
   "cell_type": "code",
   "execution_count": 18,
   "id": "566b3dea",
   "metadata": {},
   "outputs": [
    {
     "data": {
      "text/plain": [
       "'\\n\\n\"No te olvides de tu fuerza y recuerda que eres invencible\".'"
      ]
     },
     "execution_count": 18,
     "metadata": {},
     "output_type": "execute_result"
    }
   ],
   "source": [
    "resp"
   ]
  },
  {
   "cell_type": "code",
   "execution_count": 124,
   "id": "6f07d4be",
   "metadata": {},
   "outputs": [],
   "source": [
    "ins = 'explicame como obtener la fecha de actualizacion de una pagina web en python'\n",
    "resp = responda(ins)\n",
    "\n"
   ]
  },
  {
   "cell_type": "code",
   "execution_count": 125,
   "id": "d3c9e2db",
   "metadata": {},
   "outputs": [
    {
     "data": {
      "text/plain": [
       "\"\\n\\nPara obtener la fecha de actualización de una página web en Python, puede usar una biblioteca como requests para obtener la fecha de última modificación de la página.\\nPrimero, necesita importar la biblioteca de requests:\\n\\nimport requests\\n\\nLuego, puede realizar una solicitud para obtener la cabecera HTTP de la página web\\n\\nrespuesta = requests.get('http://example.com')\\n\\nAhora, puede usar el método .headers para obtener los encabezados HTTP. Esto le devolverá un diccionario con todos los encabezados HTTP:\\n\\nencabezados = respuesta.headers\\n\\nUna vez que tenga el diccionario de encabezados, puede acceder a la clave 'Fecha de última modificación' para obtener la fecha de última modificación de la página web:\\n\\nfecha_ultima_modificacion = encabezados['Fecha de última modificación']\""
      ]
     },
     "execution_count": 125,
     "metadata": {},
     "output_type": "execute_result"
    }
   ],
   "source": [
    "resp"
   ]
  },
  {
   "cell_type": "code",
   "execution_count": 12,
   "id": "824abe53",
   "metadata": {
    "scrolled": false
   },
   "outputs": [],
   "source": [
    "import requests\n",
    "from bs4 import BeautifulSoup\n",
    "\n",
    "URL = \"https://esgeeks.com/herramientas-resolver-desafios-esteganografia/\"\n",
    "#URL = \"https://www.redeszone.net/tutoriales/redes-cable/ver-fecha-publicacion-articulo-internet/\"\n",
    "page = requests.get(URL)\n",
    "\n",
    "soup = BeautifulSoup(page.content, \"html.parser\")\n"
   ]
  },
  {
   "cell_type": "code",
   "execution_count": 13,
   "id": "de8af2e7",
   "metadata": {},
   "outputs": [],
   "source": [
    "def get_date_web(soup):\n",
    "    datesweb = [\"dateModified\", \"datePublished\"]\n",
    "\n",
    "    for dw in datesweb:\n",
    "        lis = str(soup).find(dw) -1\n",
    "        if lis > 1:\n",
    "            ssoup = str(soup)[lis:]\n",
    "            lss = str(ssoup).find(\",\")\n",
    "            return {\"date_publication\": str(ssoup)[len(dw)+3:lss]}\n",
    "            #print(f'{dw}: {str(ssoup)[len(dw)+3:lss]}')\n",
    "    return {\"date_publication\": \"\"}\n",
    "\n",
    "def get_atribs_web(soup):\n",
    "    atr_dic = dict()\n",
    "    atribs = [\"title\", \"description\"]\n",
    "\n",
    "    for atrib in atribs:\n",
    "        try:\n",
    "            at = soup.find(atrib).text\n",
    "        except:\n",
    "            at = ''\n",
    "        atr_dic[atrib] = at\n",
    "    return atr_dic\n",
    "        "
   ]
  },
  {
   "cell_type": "code",
   "execution_count": 14,
   "id": "213a08c3",
   "metadata": {},
   "outputs": [
    {
     "data": {
      "text/plain": [
       "{'date_publication': '\"2019-04-12T06:33:19+00:00\"'}"
      ]
     },
     "execution_count": 14,
     "metadata": {},
     "output_type": "execute_result"
    }
   ],
   "source": [
    "get_date_web(soup)"
   ]
  },
  {
   "cell_type": "code",
   "execution_count": 15,
   "id": "097555ee",
   "metadata": {},
   "outputs": [
    {
     "data": {
      "text/plain": [
       "{'title': '▷ Mejores +20 Herramientas para desafíos de Esteganografía » EsGeeks',\n",
       " 'description': ''}"
      ]
     },
     "execution_count": 15,
     "metadata": {},
     "output_type": "execute_result"
    }
   ],
   "source": [
    "get_atribs_web(soup)"
   ]
  },
  {
   "cell_type": "code",
   "execution_count": 9,
   "id": "63eef4d4",
   "metadata": {},
   "outputs": [
    {
     "name": "stdout",
     "output_type": "stream",
     "text": [
      "title: Transfer Learning\n",
      "description: \n"
     ]
    }
   ],
   "source": [
    "atribs = [\"title\", \"description\"]\n",
    "\n",
    "for atrib in atribs:\n",
    "    try:\n",
    "        at = soup.find(atrib).text\n",
    "    except:\n",
    "        at = ''\n",
    "    print(f'{atrib}: {at}')"
   ]
  },
  {
   "cell_type": "code",
   "execution_count": 16,
   "id": "f2383527",
   "metadata": {},
   "outputs": [],
   "source": [
    "features_keys = [\"title\",\n",
    "                \"description\",\n",
    "                \"duration\",\n",
    "                \"creator\",\n",
    "                \"url\",\n",
    "                \"content\",\n",
    "                \"date_publication\",\n",
    "                \"language\",\n",
    "                \"type_resource\",\n",
    "                \"format\",\n",
    "                \"training_id\",\n",
    "                \"training_need\",\n",
    "                \"target_public_level\",\n",
    "                \"theme\"]\n",
    "\n",
    "features = {x: \"\" for x in features_keys}"
   ]
  },
  {
   "cell_type": "code",
   "execution_count": 17,
   "id": "e2e3c20e",
   "metadata": {},
   "outputs": [
    {
     "data": {
      "text/plain": [
       "{'title': '',\n",
       " 'description': '',\n",
       " 'duration': '',\n",
       " 'creator': '',\n",
       " 'url': '',\n",
       " 'content': '',\n",
       " 'language': '',\n",
       " 'type_resource': '',\n",
       " 'format': '',\n",
       " 'training_id': '',\n",
       " 'training_need': '',\n",
       " 'target_public_level': '',\n",
       " 'theme': ''}"
      ]
     },
     "execution_count": 17,
     "metadata": {},
     "output_type": "execute_result"
    }
   ],
   "source": [
    "features"
   ]
  },
  {
   "cell_type": "code",
   "execution_count": 25,
   "id": "007b9f97",
   "metadata": {},
   "outputs": [],
   "source": [
    "URL = 'https://www.youtube.com/watch?v=x5JD8_mY3Io&t=134s'\n",
    "\n",
    "page = requests.get(URL)\n",
    "\n",
    "soup = BeautifulSoup(page.content, \"html.parser\")"
   ]
  },
  {
   "cell_type": "code",
   "execution_count": 26,
   "id": "bdc71835",
   "metadata": {},
   "outputs": [],
   "source": [
    "header = soup.find(\"head\")"
   ]
  },
  {
   "cell_type": "code",
   "execution_count": 76,
   "id": "271af427",
   "metadata": {
    "scrolled": true
   },
   "outputs": [
    {
     "data": {
      "text/plain": [
       "<meta content=\"2018-06-30\" itemprop=\"datePublished\"/>"
      ]
     },
     "execution_count": 76,
     "metadata": {},
     "output_type": "execute_result"
    }
   ],
   "source": [
    "var = header.find(\"meta\", attrs = {'itemprop':'datePublished'})\n",
    "var"
   ]
  },
  {
   "cell_type": "code",
   "execution_count": 48,
   "id": "399edd52",
   "metadata": {
    "scrolled": true
   },
   "outputs": [
    {
     "data": {
      "text/plain": [
       "'2018-06-30'"
      ]
     },
     "execution_count": 48,
     "metadata": {},
     "output_type": "execute_result"
    }
   ],
   "source": [
    "var['content']"
   ]
  },
  {
   "cell_type": "code",
   "execution_count": 86,
   "id": "5426453c",
   "metadata": {},
   "outputs": [
    {
     "data": {
      "text/plain": [
       "'2018-06-30'"
      ]
     },
     "execution_count": 86,
     "metadata": {},
     "output_type": "execute_result"
    }
   ],
   "source": [
    "soup.find(\"meta\", attrs = {'itemprop':'datePublished'})['content']\n"
   ]
  },
  {
   "cell_type": "code",
   "execution_count": 77,
   "id": "b60750e0",
   "metadata": {
    "scrolled": true
   },
   "outputs": [
    {
     "data": {
      "text/plain": [
       "False"
      ]
     },
     "execution_count": 77,
     "metadata": {},
     "output_type": "execute_result"
    }
   ],
   "source": [
    "str(var) == 'None'"
   ]
  },
  {
   "cell_type": "code",
   "execution_count": 82,
   "id": "209a8576",
   "metadata": {},
   "outputs": [
    {
     "data": {
      "text/plain": [
       "<meta content=\"2018-06-30\" itemprop=\"datePublished\"/>"
      ]
     },
     "execution_count": 82,
     "metadata": {},
     "output_type": "execute_result"
    }
   ],
   "source": [
    "#soup.find(\"meta\", property=\"og:title\")\n",
    "#soup.find(\"meta\", property=\"og:description\")\n",
    "soup.find(\"meta\", itemprop=\"datePublished\")\n"
   ]
  }
 ],
 "metadata": {
  "kernelspec": {
   "display_name": "Python 3 (ipykernel)",
   "language": "python",
   "name": "python3"
  },
  "language_info": {
   "codemirror_mode": {
    "name": "ipython",
    "version": 3
   },
   "file_extension": ".py",
   "mimetype": "text/x-python",
   "name": "python",
   "nbconvert_exporter": "python",
   "pygments_lexer": "ipython3",
   "version": "3.10.6"
  }
 },
 "nbformat": 4,
 "nbformat_minor": 5
}
