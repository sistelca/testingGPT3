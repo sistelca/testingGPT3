{
 "cells": [
  {
   "cell_type": "code",
   "execution_count": 2,
   "id": "bc816ad3",
   "metadata": {},
   "outputs": [],
   "source": [
    "import openai\n",
    "from config import loadcred\n",
    "\n",
    "openai.api_key = loadcred('./')['OPENAI_API_KEY']"
   ]
  },
  {
   "cell_type": "code",
   "execution_count": 3,
   "id": "7476327b",
   "metadata": {},
   "outputs": [],
   "source": [
    "def responda(pregunta):\n",
    "    if len(pregunta) < 10:\n",
    "        return ''\n",
    "\n",
    "    response = openai.Completion.create(\n",
    "        model = \"text-davinci-003\",\n",
    "        prompt = pregunta,\n",
    "        #\"The following is a conversation with an AI assistant. The assistant is helpful, creative, clever, and very friendly.\\n\\nHuman: Hello, who are you?\\nAI: I am an AI created by OpenAI. How can I help you today?\\nHuman: I'd like to cancel my subscription.\\nAI:\",\n",
    "        temperature=0.9,\n",
    "        max_tokens=150,\n",
    "        top_p=1,\n",
    "        frequency_penalty=0.0,\n",
    "        presence_penalty=0.6,\n",
    "        stop=[\" Human:\", \" AI:\"]\n",
    "    )\n",
    "    return response[\"choices\"][0][\"text\"]\n",
    "\n"
   ]
  },
  {
   "cell_type": "code",
   "execution_count": 50,
   "id": "ab1bdf4c",
   "metadata": {
    "scrolled": true
   },
   "outputs": [
    {
     "data": {
      "text/plain": [
       "'\\n\\n1. Argentina (44.2 million)\\n2. Bolivia (11.6 million)\\n3. Brazil (210.2 million)\\n4. Chile (19.1 million)\\n5. Colombia (50.3 million)\\n6. Ecuador (17.3 million)\\n7. Guyana (786,552)\\n8. Paraguay (7 million)\\n9. Peru (32 million)\\n10. Suriname (586,632)\\n11. Uruguay (3.5 million)\\n12. Venezuela (31.4 million)'"
      ]
     },
     "execution_count": 50,
     "metadata": {},
     "output_type": "execute_result"
    }
   ],
   "source": [
    "pregunta = 'Give me a list of all latino south american countries with their people number'\n",
    "\n",
    "responda(pregunta)\n"
   ]
  },
  {
   "cell_type": "code",
   "execution_count": 10,
   "id": "d7f05905",
   "metadata": {},
   "outputs": [
    {
     "data": {
      "text/plain": [
       "'completion = util.openai().Completion.create(\\n    prompt=\"Once upon an AI\",\\n    max_tokens=5,\\n    echo=False\\n)\\nprint(completion.choices[0].text)\\n\\n'"
      ]
     },
     "execution_count": 10,
     "metadata": {},
     "output_type": "execute_result"
    }
   ],
   "source": [
    "countries[\"choices\"][0][\"text\"]"
   ]
  },
  {
   "cell_type": "code",
   "execution_count": 28,
   "id": "306c1b27",
   "metadata": {},
   "outputs": [
    {
     "name": "stdout",
     "output_type": "stream",
     "text": [
      "People for country\n",
      "Argentina:  Over 44 million people live in Argentina.\n",
      "Bolivia:  10,461,053 (July 2017 est.)\n",
      "Brazil:  over 200 million\n",
      "Chile:  17,62 million\n",
      "Colombia:  over 47 million\n",
      "Ecuador: \n",
      "\n",
      "There is no definitive answer, but the most recent estimate is that there are about 16 million people living in Ecuador.\n",
      "Guyana:  783,272 (July 1, 2015 estimate)\n",
      "Paraguay: \n",
      "\n",
      "There is no definitive answer, but the CIA World Factbook estimates that the population of Paraguay was 7,132,537 as of July 2018.\n",
      "Peru:  31,446,963 (July 2018 est.)\n",
      "Suriname:  ?\n",
      "Uruguay:  3,477,737 (July 2018 est.)\n",
      "Venezuela: \n",
      "\n",
      "There is no definitive answer, but according to the CIA World Factbook, the population of Venezuela was estimated to be around 31.1 million as of July 2018.\n"
     ]
    }
   ],
   "source": [
    "print('People for country')\n",
    "total = 0\n",
    "for country in countries:\n",
    "    pregunta = f'how many people live in {country}?'\n",
    "    #total += int(responda(pregunta))\n",
    "    print(f'{country}: {responda(pregunta)}')\n",
    "#print(f'total: {total}')"
   ]
  },
  {
   "cell_type": "code",
   "execution_count": 6,
   "id": "53c80d0d",
   "metadata": {},
   "outputs": [],
   "source": [
    "ins = 'fedora habilitar escritorio remoto desde terminal'"
   ]
  },
  {
   "cell_type": "code",
   "execution_count": 7,
   "id": "88733d63",
   "metadata": {},
   "outputs": [
    {
     "data": {
      "text/plain": [
       "'\\n\\nFedora ofrece varias formas de habilitar el escritorio remoto desde una terminal. Una de ellas es utilizar el servicio VNC (Virtual Network Computing). Para ello, tendrá que instalar y configurar el paquete tigervnc-server. Puede hacerlo con el siguiente comando:\\n\\nsudo dnf install tigervnc-server\\n\\nUna vez instalado, puede configurar el escritorio remoto escribiendo el siguiente comando:\\n\\nvncserver :1\\n\\nA continuación,'"
      ]
     },
     "execution_count": 7,
     "metadata": {},
     "output_type": "execute_result"
    }
   ],
   "source": [
    "responda(ins)"
   ]
  },
  {
   "cell_type": "code",
   "execution_count": 34,
   "id": "37c442d3",
   "metadata": {},
   "outputs": [],
   "source": [
    "ins = 'Give me a list of content for the introduction to machine learning with python course'"
   ]
  },
  {
   "cell_type": "code",
   "execution_count": 36,
   "id": "526d97cc",
   "metadata": {
    "scrolled": false
   },
   "outputs": [],
   "source": [
    "rep = responda(ins)"
   ]
  },
  {
   "cell_type": "code",
   "execution_count": 41,
   "id": "30d4c7cb",
   "metadata": {},
   "outputs": [
    {
     "data": {
      "text/plain": [
       "'\\n\\n1. Introduction to Machine Learning with Python\\n2. Basic Python Programming for Machine Learning \\n3. Exploring the Types of Machine Learning Algorithms\\n4. Preparing Data for Machine Learning\\n5. Building Machine Learning Models \\n6. Evaluating Machine Learning Models\\n7. Working with Real-World Data Sets\\n8. Further Explorations in Machine Learning with Python'"
      ]
     },
     "execution_count": 41,
     "metadata": {},
     "output_type": "execute_result"
    }
   ],
   "source": [
    "rep[\"choices\"][0][\"text\"]\n"
   ]
  },
  {
   "cell_type": "code",
   "execution_count": 43,
   "id": "cd164527",
   "metadata": {},
   "outputs": [],
   "source": [
    "ins = 'show me 3 laws of thermodynamics'"
   ]
  },
  {
   "cell_type": "code",
   "execution_count": 44,
   "id": "161e26f2",
   "metadata": {},
   "outputs": [],
   "source": [
    "resp = responda(ins)"
   ]
  },
  {
   "cell_type": "code",
   "execution_count": 45,
   "id": "566b3dea",
   "metadata": {},
   "outputs": [
    {
     "data": {
      "text/plain": [
       "'\\n\\n1. The Zeroth Law of Thermodynamics: When two thermodynamic systems are each in thermal equilibrium with a third, they are also in thermal equilibrium with each other.\\n\\n2. The First Law of Thermodynamics: Energy can be neither created nor destroyed; it only changes form.\\n\\n3. The Second Law of Thermodynamics: Heat naturally flows from hotter objects to colder objects; entropy tends to increase over time.'"
      ]
     },
     "execution_count": 45,
     "metadata": {},
     "output_type": "execute_result"
    }
   ],
   "source": [
    "resp"
   ]
  }
 ],
 "metadata": {
  "kernelspec": {
   "display_name": "Python 3 (ipykernel)",
   "language": "python",
   "name": "python3"
  },
  "language_info": {
   "codemirror_mode": {
    "name": "ipython",
    "version": 3
   },
   "file_extension": ".py",
   "mimetype": "text/x-python",
   "name": "python",
   "nbconvert_exporter": "python",
   "pygments_lexer": "ipython3",
   "version": "3.10.6"
  }
 },
 "nbformat": 4,
 "nbformat_minor": 5
}
